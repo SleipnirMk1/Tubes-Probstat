{
  "nbformat": 4,
  "nbformat_minor": 0,
  "metadata": {
    "kernelspec": {
      "display_name": "Python 3",
      "language": "python",
      "name": "python3"
    },
    "language_info": {
      "codemirror_mode": {
        "name": "ipython",
        "version": 3
      },
      "file_extension": ".py",
      "mimetype": "text/x-python",
      "name": "python",
      "nbconvert_exporter": "python",
      "pygments_lexer": "ipython3",
      "version": "3.7.6"
    },
    "colab": {
      "name": "probstat.ipynb",
      "provenance": [],
      "collapsed_sections": []
    }
  },
  "cells": [
    {
      "cell_type": "code",
      "metadata": {
        "colab": {
          "base_uri": "https://localhost:8080/"
        },
        "id": "zRMXno6EnLJB",
        "outputId": "0ea29db1-b837-4e58-cd5f-8e74cfabb51c"
      },
      "source": [
        "import pandas as pd\n",
        "import pylab \n",
        "import scipy.stats as stats\n",
        "import numpy as np\n",
        "from statsmodels.stats import weightstats as stests\n",
        "\n",
        "df = pd.read_csv(\"Gandum.csv\")"
      ],
      "execution_count": 35,
      "outputs": [
        {
          "output_type": "stream",
          "text": [
            "/usr/local/lib/python3.7/dist-packages/statsmodels/tools/_testing.py:19: FutureWarning: pandas.util.testing is deprecated. Use the functions in the public API at pandas.testing instead.\n",
            "  import pandas.util.testing as tm\n"
          ],
          "name": "stderr"
        }
      ]
    },
    {
      "cell_type": "code",
      "metadata": {
        "id": "uifphFa-nLJH",
        "outputId": "df13f2b3-81eb-41f1-f332-2b6454a434ab"
      },
      "source": [
        "df.describe()"
      ],
      "execution_count": null,
      "outputs": [
        {
          "output_type": "execute_result",
          "data": {
            "text/html": [
              "<div>\n",
              "<style scoped>\n",
              "    .dataframe tbody tr th:only-of-type {\n",
              "        vertical-align: middle;\n",
              "    }\n",
              "\n",
              "    .dataframe tbody tr th {\n",
              "        vertical-align: top;\n",
              "    }\n",
              "\n",
              "    .dataframe thead th {\n",
              "        text-align: right;\n",
              "    }\n",
              "</style>\n",
              "<table border=\"1\" class=\"dataframe\">\n",
              "  <thead>\n",
              "    <tr style=\"text-align: right;\">\n",
              "      <th></th>\n",
              "      <th>id</th>\n",
              "      <th>Daerah</th>\n",
              "      <th>SumbuUtama</th>\n",
              "      <th>SumbuKecil</th>\n",
              "      <th>Keunikan</th>\n",
              "      <th>AreaBulatan</th>\n",
              "      <th>Diameter</th>\n",
              "      <th>KadarAir</th>\n",
              "      <th>Keliling</th>\n",
              "      <th>Bulatan</th>\n",
              "      <th>Ransum</th>\n",
              "      <th>Kelas</th>\n",
              "    </tr>\n",
              "  </thead>\n",
              "  <tbody>\n",
              "    <tr>\n",
              "      <th>count</th>\n",
              "      <td>500.000000</td>\n",
              "      <td>500.000000</td>\n",
              "      <td>500.000000</td>\n",
              "      <td>500.000000</td>\n",
              "      <td>500.000000</td>\n",
              "      <td>500.000000</td>\n",
              "      <td>500.000000</td>\n",
              "      <td>500.000000</td>\n",
              "      <td>500.000000</td>\n",
              "      <td>500.000000</td>\n",
              "      <td>500.000000</td>\n",
              "      <td>500.000000</td>\n",
              "    </tr>\n",
              "    <tr>\n",
              "      <th>mean</th>\n",
              "      <td>250.500000</td>\n",
              "      <td>4801.246000</td>\n",
              "      <td>116.045171</td>\n",
              "      <td>53.715246</td>\n",
              "      <td>0.878764</td>\n",
              "      <td>4937.048000</td>\n",
              "      <td>77.771158</td>\n",
              "      <td>0.648372</td>\n",
              "      <td>281.479722</td>\n",
              "      <td>0.761737</td>\n",
              "      <td>2.150915</td>\n",
              "      <td>1.502000</td>\n",
              "    </tr>\n",
              "    <tr>\n",
              "      <th>std</th>\n",
              "      <td>144.481833</td>\n",
              "      <td>986.395491</td>\n",
              "      <td>18.282626</td>\n",
              "      <td>4.071075</td>\n",
              "      <td>0.036586</td>\n",
              "      <td>1011.696255</td>\n",
              "      <td>8.056867</td>\n",
              "      <td>0.094367</td>\n",
              "      <td>37.335402</td>\n",
              "      <td>0.061702</td>\n",
              "      <td>0.249767</td>\n",
              "      <td>0.500497</td>\n",
              "    </tr>\n",
              "    <tr>\n",
              "      <th>min</th>\n",
              "      <td>1.000000</td>\n",
              "      <td>2522.000000</td>\n",
              "      <td>74.133114</td>\n",
              "      <td>39.906517</td>\n",
              "      <td>0.719916</td>\n",
              "      <td>2579.000000</td>\n",
              "      <td>56.666658</td>\n",
              "      <td>0.409927</td>\n",
              "      <td>197.015000</td>\n",
              "      <td>0.174590</td>\n",
              "      <td>1.440796</td>\n",
              "      <td>1.000000</td>\n",
              "    </tr>\n",
              "    <tr>\n",
              "      <th>25%</th>\n",
              "      <td>125.750000</td>\n",
              "      <td>4042.750000</td>\n",
              "      <td>104.116098</td>\n",
              "      <td>51.193576</td>\n",
              "      <td>0.863676</td>\n",
              "      <td>4170.250000</td>\n",
              "      <td>71.745308</td>\n",
              "      <td>0.572632</td>\n",
              "      <td>255.883000</td>\n",
              "      <td>0.731991</td>\n",
              "      <td>1.983939</td>\n",
              "      <td>1.000000</td>\n",
              "    </tr>\n",
              "    <tr>\n",
              "      <th>50%</th>\n",
              "      <td>250.500000</td>\n",
              "      <td>4735.000000</td>\n",
              "      <td>115.405140</td>\n",
              "      <td>53.731199</td>\n",
              "      <td>0.890045</td>\n",
              "      <td>4857.000000</td>\n",
              "      <td>77.645277</td>\n",
              "      <td>0.626117</td>\n",
              "      <td>280.045500</td>\n",
              "      <td>0.761288</td>\n",
              "      <td>2.193599</td>\n",
              "      <td>2.000000</td>\n",
              "    </tr>\n",
              "    <tr>\n",
              "      <th>75%</th>\n",
              "      <td>375.250000</td>\n",
              "      <td>5495.500000</td>\n",
              "      <td>129.046792</td>\n",
              "      <td>56.325158</td>\n",
              "      <td>0.907578</td>\n",
              "      <td>5654.250000</td>\n",
              "      <td>83.648598</td>\n",
              "      <td>0.726633</td>\n",
              "      <td>306.062500</td>\n",
              "      <td>0.796361</td>\n",
              "      <td>2.381612</td>\n",
              "      <td>2.000000</td>\n",
              "    </tr>\n",
              "    <tr>\n",
              "      <th>max</th>\n",
              "      <td>500.000000</td>\n",
              "      <td>7453.000000</td>\n",
              "      <td>227.928583</td>\n",
              "      <td>68.977700</td>\n",
              "      <td>0.914001</td>\n",
              "      <td>7720.000000</td>\n",
              "      <td>97.413830</td>\n",
              "      <td>0.878899</td>\n",
              "      <td>488.837000</td>\n",
              "      <td>0.904748</td>\n",
              "      <td>2.464809</td>\n",
              "      <td>2.000000</td>\n",
              "    </tr>\n",
              "  </tbody>\n",
              "</table>\n",
              "</div>"
            ],
            "text/plain": [
              "               id       Daerah  SumbuUtama  SumbuKecil    Keunikan  \\\n",
              "count  500.000000   500.000000  500.000000  500.000000  500.000000   \n",
              "mean   250.500000  4801.246000  116.045171   53.715246    0.878764   \n",
              "std    144.481833   986.395491   18.282626    4.071075    0.036586   \n",
              "min      1.000000  2522.000000   74.133114   39.906517    0.719916   \n",
              "25%    125.750000  4042.750000  104.116098   51.193576    0.863676   \n",
              "50%    250.500000  4735.000000  115.405140   53.731199    0.890045   \n",
              "75%    375.250000  5495.500000  129.046792   56.325158    0.907578   \n",
              "max    500.000000  7453.000000  227.928583   68.977700    0.914001   \n",
              "\n",
              "       AreaBulatan    Diameter    KadarAir    Keliling     Bulatan  \\\n",
              "count   500.000000  500.000000  500.000000  500.000000  500.000000   \n",
              "mean   4937.048000   77.771158    0.648372  281.479722    0.761737   \n",
              "std    1011.696255    8.056867    0.094367   37.335402    0.061702   \n",
              "min    2579.000000   56.666658    0.409927  197.015000    0.174590   \n",
              "25%    4170.250000   71.745308    0.572632  255.883000    0.731991   \n",
              "50%    4857.000000   77.645277    0.626117  280.045500    0.761288   \n",
              "75%    5654.250000   83.648598    0.726633  306.062500    0.796361   \n",
              "max    7720.000000   97.413830    0.878899  488.837000    0.904748   \n",
              "\n",
              "           Ransum       Kelas  \n",
              "count  500.000000  500.000000  \n",
              "mean     2.150915    1.502000  \n",
              "std      0.249767    0.500497  \n",
              "min      1.440796    1.000000  \n",
              "25%      1.983939    1.000000  \n",
              "50%      2.193599    2.000000  \n",
              "75%      2.381612    2.000000  \n",
              "max      2.464809    2.000000  "
            ]
          },
          "metadata": {
            "tags": []
          },
          "execution_count": 2
        }
      ]
    },
    {
      "cell_type": "code",
      "metadata": {
        "id": "Yft0lkKdnLJK",
        "outputId": "f44dd167-2922-482e-a8d1-1b23968c8201"
      },
      "source": [
        "print(\"Skewness: \")\n",
        "df.skew()"
      ],
      "execution_count": null,
      "outputs": [
        {
          "output_type": "stream",
          "text": [
            "Skewness: \n"
          ],
          "name": "stdout"
        },
        {
          "output_type": "execute_result",
          "data": {
            "text/plain": [
              "id             0.000000\n",
              "Daerah         0.238144\n",
              "SumbuUtama     0.761529\n",
              "SumbuKecil    -0.010828\n",
              "Keunikan      -1.623472\n",
              "AreaBulatan    0.257560\n",
              "Diameter       0.002725\n",
              "KadarAir       0.493661\n",
              "Keliling       0.733627\n",
              "Bulatan       -3.599237\n",
              "Ransum        -0.658188\n",
              "Kelas         -0.008024\n",
              "dtype: float64"
            ]
          },
          "metadata": {
            "tags": []
          },
          "execution_count": 3
        }
      ]
    },
    {
      "cell_type": "code",
      "metadata": {
        "id": "PhMKZuuwnLJL",
        "outputId": "18e4b392-1c01-4441-8c73-e1bf6a268ec0"
      },
      "source": [
        "print(\"Variance: \")\n",
        "df.var()"
      ],
      "execution_count": null,
      "outputs": [
        {
          "output_type": "stream",
          "text": [
            "Variance: \n"
          ],
          "name": "stdout"
        },
        {
          "output_type": "execute_result",
          "data": {
            "text/plain": [
              "id             2.087500e+04\n",
              "Daerah         9.729761e+05\n",
              "SumbuUtama     3.342544e+02\n",
              "SumbuKecil     1.657365e+01\n",
              "Keunikan       1.338528e-03\n",
              "AreaBulatan    1.023529e+06\n",
              "Diameter       6.491311e+01\n",
              "KadarAir       8.905149e-03\n",
              "Keliling       1.393932e+03\n",
              "Bulatan        3.807194e-03\n",
              "Ransum         6.238350e-02\n",
              "Kelas          2.504970e-01\n",
              "dtype: float64"
            ]
          },
          "metadata": {
            "tags": []
          },
          "execution_count": 4
        }
      ]
    },
    {
      "cell_type": "code",
      "metadata": {
        "id": "pg-DN8zLnLJM",
        "outputId": "de2b2351-c42b-4826-bb97-8057ca41af65"
      },
      "source": [
        "print(\"Kurtosis: \")\n",
        "df.kurt()"
      ],
      "execution_count": null,
      "outputs": [
        {
          "output_type": "stream",
          "text": [
            "Kurtosis: \n"
          ],
          "name": "stdout"
        },
        {
          "output_type": "execute_result",
          "data": {
            "text/plain": [
              "id             -1.200000\n",
              "Daerah         -0.434631\n",
              "SumbuUtama      4.330534\n",
              "SumbuKecil      0.475568\n",
              "Keunikan        2.917256\n",
              "AreaBulatan    -0.409685\n",
              "Diameter       -0.466455\n",
              "KadarAir       -0.740326\n",
              "Keliling        2.272685\n",
              "Bulatan        29.975096\n",
              "Ransum         -0.428656\n",
              "Kelas          -2.007984\n",
              "dtype: float64"
            ]
          },
          "metadata": {
            "tags": []
          },
          "execution_count": 5
        }
      ]
    },
    {
      "cell_type": "code",
      "metadata": {
        "id": "yCtgDgOqnLJN",
        "outputId": "e0ecd7d3-377c-4929-8712-b4ede8c65c1b"
      },
      "source": [
        "print(\"Modus: \")\n",
        "print(\"Beberapa data memiliki 500 modus karena setiap datanya unik\")\n",
        "df.mode()"
      ],
      "execution_count": null,
      "outputs": [
        {
          "output_type": "stream",
          "text": [
            "Modus: \n",
            "Beberapa data memiliki 500 modus karena setiap datanya unik\n"
          ],
          "name": "stdout"
        },
        {
          "output_type": "execute_result",
          "data": {
            "text/html": [
              "<div>\n",
              "<style scoped>\n",
              "    .dataframe tbody tr th:only-of-type {\n",
              "        vertical-align: middle;\n",
              "    }\n",
              "\n",
              "    .dataframe tbody tr th {\n",
              "        vertical-align: top;\n",
              "    }\n",
              "\n",
              "    .dataframe thead th {\n",
              "        text-align: right;\n",
              "    }\n",
              "</style>\n",
              "<table border=\"1\" class=\"dataframe\">\n",
              "  <thead>\n",
              "    <tr style=\"text-align: right;\">\n",
              "      <th></th>\n",
              "      <th>id</th>\n",
              "      <th>Daerah</th>\n",
              "      <th>SumbuUtama</th>\n",
              "      <th>SumbuKecil</th>\n",
              "      <th>Keunikan</th>\n",
              "      <th>AreaBulatan</th>\n",
              "      <th>Diameter</th>\n",
              "      <th>KadarAir</th>\n",
              "      <th>Keliling</th>\n",
              "      <th>Bulatan</th>\n",
              "      <th>Ransum</th>\n",
              "      <th>Kelas</th>\n",
              "    </tr>\n",
              "  </thead>\n",
              "  <tbody>\n",
              "    <tr>\n",
              "      <th>0</th>\n",
              "      <td>1</td>\n",
              "      <td>3992.0</td>\n",
              "      <td>74.133114</td>\n",
              "      <td>39.906517</td>\n",
              "      <td>0.719916</td>\n",
              "      <td>3802.0</td>\n",
              "      <td>71.293564</td>\n",
              "      <td>0.735849</td>\n",
              "      <td>197.015</td>\n",
              "      <td>0.174590</td>\n",
              "      <td>1.440796</td>\n",
              "      <td>2.0</td>\n",
              "    </tr>\n",
              "    <tr>\n",
              "      <th>1</th>\n",
              "      <td>2</td>\n",
              "      <td>4881.0</td>\n",
              "      <td>74.364021</td>\n",
              "      <td>41.436419</td>\n",
              "      <td>0.725553</td>\n",
              "      <td>4913.0</td>\n",
              "      <td>78.833256</td>\n",
              "      <td>0.824405</td>\n",
              "      <td>200.587</td>\n",
              "      <td>0.261297</td>\n",
              "      <td>1.453137</td>\n",
              "      <td>NaN</td>\n",
              "    </tr>\n",
              "    <tr>\n",
              "      <th>2</th>\n",
              "      <td>3</td>\n",
              "      <td>5642.0</td>\n",
              "      <td>74.691881</td>\n",
              "      <td>42.871879</td>\n",
              "      <td>0.731211</td>\n",
              "      <td>NaN</td>\n",
              "      <td>84.756224</td>\n",
              "      <td>NaN</td>\n",
              "      <td>202.456</td>\n",
              "      <td>0.299298</td>\n",
              "      <td>1.465950</td>\n",
              "      <td>NaN</td>\n",
              "    </tr>\n",
              "    <tr>\n",
              "      <th>3</th>\n",
              "      <td>4</td>\n",
              "      <td>6083.0</td>\n",
              "      <td>76.293164</td>\n",
              "      <td>43.284979</td>\n",
              "      <td>0.738639</td>\n",
              "      <td>NaN</td>\n",
              "      <td>88.006342</td>\n",
              "      <td>NaN</td>\n",
              "      <td>207.325</td>\n",
              "      <td>0.589146</td>\n",
              "      <td>1.483456</td>\n",
              "      <td>NaN</td>\n",
              "    </tr>\n",
              "    <tr>\n",
              "      <th>4</th>\n",
              "      <td>5</td>\n",
              "      <td>NaN</td>\n",
              "      <td>76.789043</td>\n",
              "      <td>44.119355</td>\n",
              "      <td>0.749282</td>\n",
              "      <td>NaN</td>\n",
              "      <td>NaN</td>\n",
              "      <td>NaN</td>\n",
              "      <td>207.697</td>\n",
              "      <td>0.603807</td>\n",
              "      <td>1.510000</td>\n",
              "      <td>NaN</td>\n",
              "    </tr>\n",
              "    <tr>\n",
              "      <th>...</th>\n",
              "      <td>...</td>\n",
              "      <td>...</td>\n",
              "      <td>...</td>\n",
              "      <td>...</td>\n",
              "      <td>...</td>\n",
              "      <td>...</td>\n",
              "      <td>...</td>\n",
              "      <td>...</td>\n",
              "      <td>...</td>\n",
              "      <td>...</td>\n",
              "      <td>...</td>\n",
              "      <td>...</td>\n",
              "    </tr>\n",
              "    <tr>\n",
              "      <th>495</th>\n",
              "      <td>496</td>\n",
              "      <td>NaN</td>\n",
              "      <td>152.068440</td>\n",
              "      <td>63.322854</td>\n",
              "      <td>0.913724</td>\n",
              "      <td>NaN</td>\n",
              "      <td>NaN</td>\n",
              "      <td>NaN</td>\n",
              "      <td>375.651</td>\n",
              "      <td>0.872417</td>\n",
              "      <td>2.461017</td>\n",
              "      <td>NaN</td>\n",
              "    </tr>\n",
              "    <tr>\n",
              "      <th>496</th>\n",
              "      <td>497</td>\n",
              "      <td>NaN</td>\n",
              "      <td>152.113491</td>\n",
              "      <td>63.762307</td>\n",
              "      <td>0.913760</td>\n",
              "      <td>NaN</td>\n",
              "      <td>NaN</td>\n",
              "      <td>NaN</td>\n",
              "      <td>390.125</td>\n",
              "      <td>0.874243</td>\n",
              "      <td>2.461510</td>\n",
              "      <td>NaN</td>\n",
              "    </tr>\n",
              "    <tr>\n",
              "      <th>497</th>\n",
              "      <td>498</td>\n",
              "      <td>NaN</td>\n",
              "      <td>153.583387</td>\n",
              "      <td>64.012769</td>\n",
              "      <td>0.913891</td>\n",
              "      <td>NaN</td>\n",
              "      <td>NaN</td>\n",
              "      <td>NaN</td>\n",
              "      <td>434.235</td>\n",
              "      <td>0.874743</td>\n",
              "      <td>2.463297</td>\n",
              "      <td>NaN</td>\n",
              "    </tr>\n",
              "    <tr>\n",
              "      <th>498</th>\n",
              "      <td>499</td>\n",
              "      <td>NaN</td>\n",
              "      <td>227.105462</td>\n",
              "      <td>65.738475</td>\n",
              "      <td>0.913909</td>\n",
              "      <td>NaN</td>\n",
              "      <td>NaN</td>\n",
              "      <td>NaN</td>\n",
              "      <td>448.305</td>\n",
              "      <td>0.891706</td>\n",
              "      <td>2.463546</td>\n",
              "      <td>NaN</td>\n",
              "    </tr>\n",
              "    <tr>\n",
              "      <th>499</th>\n",
              "      <td>500</td>\n",
              "      <td>NaN</td>\n",
              "      <td>227.928583</td>\n",
              "      <td>68.977700</td>\n",
              "      <td>0.914001</td>\n",
              "      <td>NaN</td>\n",
              "      <td>NaN</td>\n",
              "      <td>NaN</td>\n",
              "      <td>488.837</td>\n",
              "      <td>0.904748</td>\n",
              "      <td>2.464809</td>\n",
              "      <td>NaN</td>\n",
              "    </tr>\n",
              "  </tbody>\n",
              "</table>\n",
              "<p>500 rows × 12 columns</p>\n",
              "</div>"
            ],
            "text/plain": [
              "      id  Daerah  SumbuUtama  SumbuKecil  Keunikan  AreaBulatan   Diameter  \\\n",
              "0      1  3992.0   74.133114   39.906517  0.719916       3802.0  71.293564   \n",
              "1      2  4881.0   74.364021   41.436419  0.725553       4913.0  78.833256   \n",
              "2      3  5642.0   74.691881   42.871879  0.731211          NaN  84.756224   \n",
              "3      4  6083.0   76.293164   43.284979  0.738639          NaN  88.006342   \n",
              "4      5     NaN   76.789043   44.119355  0.749282          NaN        NaN   \n",
              "..   ...     ...         ...         ...       ...          ...        ...   \n",
              "495  496     NaN  152.068440   63.322854  0.913724          NaN        NaN   \n",
              "496  497     NaN  152.113491   63.762307  0.913760          NaN        NaN   \n",
              "497  498     NaN  153.583387   64.012769  0.913891          NaN        NaN   \n",
              "498  499     NaN  227.105462   65.738475  0.913909          NaN        NaN   \n",
              "499  500     NaN  227.928583   68.977700  0.914001          NaN        NaN   \n",
              "\n",
              "     KadarAir  Keliling   Bulatan    Ransum  Kelas  \n",
              "0    0.735849   197.015  0.174590  1.440796    2.0  \n",
              "1    0.824405   200.587  0.261297  1.453137    NaN  \n",
              "2         NaN   202.456  0.299298  1.465950    NaN  \n",
              "3         NaN   207.325  0.589146  1.483456    NaN  \n",
              "4         NaN   207.697  0.603807  1.510000    NaN  \n",
              "..        ...       ...       ...       ...    ...  \n",
              "495       NaN   375.651  0.872417  2.461017    NaN  \n",
              "496       NaN   390.125  0.874243  2.461510    NaN  \n",
              "497       NaN   434.235  0.874743  2.463297    NaN  \n",
              "498       NaN   448.305  0.891706  2.463546    NaN  \n",
              "499       NaN   488.837  0.904748  2.464809    NaN  \n",
              "\n",
              "[500 rows x 12 columns]"
            ]
          },
          "metadata": {
            "tags": []
          },
          "execution_count": 6
        }
      ]
    },
    {
      "cell_type": "code",
      "metadata": {
        "id": "VcECJhXMnLJO",
        "outputId": "10bf9683-cfae-4c67-b624-74bbdbccb01d"
      },
      "source": [
        "print(\"Interquartile Range (IQR):\")\n",
        "val_list = df[\"Daerah\"].values.tolist()\n",
        "iqr = stats.iqr(val_list)\n",
        "print(\"Daerah\\t\\t: \", iqr)\n",
        "val_list = df[\"SumbuUtama\"].values.tolist()\n",
        "iqr = stats.iqr(val_list)\n",
        "print(\"Sumbu Utama\\t: \", iqr)\n",
        "val_list = df[\"SumbuKecil\"].values.tolist()\n",
        "iqr = stats.iqr(val_list)\n",
        "print(\"Sumbu Kecil\\t: \", iqr)\n",
        "val_list = df[\"Keunikan\"].values.tolist()\n",
        "iqr = stats.iqr(val_list)\n",
        "print(\"Keunikan\\t: \", iqr)\n",
        "val_list = df[\"AreaBulatan\"].values.tolist()\n",
        "iqr = stats.iqr(val_list)\n",
        "print(\"Area Bulatan\\t: \", iqr)\n",
        "val_list = df[\"Diameter\"].values.tolist()\n",
        "iqr = stats.iqr(val_list)\n",
        "print(\"Diameter\\t: \", iqr)\n",
        "val_list = df[\"KadarAir\"].values.tolist()\n",
        "iqr = stats.iqr(val_list)\n",
        "print(\"Kadar Air\\t: \", iqr)\n",
        "val_list = df[\"Keliling\"].values.tolist()\n",
        "iqr = stats.iqr(val_list)\n",
        "print(\"Keliling\\t: \", iqr)\n",
        "val_list = df[\"Bulatan\"].values.tolist()\n",
        "iqr = stats.iqr(val_list)\n",
        "print(\"Bulatan\\t\\t: \", iqr)\n",
        "val_list = df[\"Ransum\"].values.tolist()\n",
        "iqr = stats.iqr(val_list)\n",
        "print(\"Ransum\\t\\t: \", iqr)\n",
        "val_list = df[\"Kelas\"].values.tolist()\n",
        "iqr = stats.iqr(val_list)\n",
        "print(\"Kelas\\t\\t: \", iqr)"
      ],
      "execution_count": null,
      "outputs": [
        {
          "output_type": "stream",
          "text": [
            "Interquartile Range (IQR):\n",
            "Daerah\t\t:  1452.75\n",
            "Sumbu Utama\t:  24.93069385000001\n",
            "Sumbu Kecil\t:  5.131581650000001\n",
            "Keunikan\t:  0.04390216424999993\n",
            "Area Bulatan\t:  1484.0\n",
            "Diameter\t:  11.903290020000014\n",
            "Kadar Air\t:  0.15400088725000005\n",
            "Keliling\t:  50.17950000000002\n",
            "Bulatan\t\t:  0.06437024175000006\n",
            "Ransum\t\t:  0.3976734275\n",
            "Kelas\t\t:  1.0\n"
          ],
          "name": "stdout"
        }
      ]
    },
    {
      "cell_type": "code",
      "metadata": {
        "id": "y-oA1QKanLJQ",
        "outputId": "c6855818-7d86-4de2-b95a-b71180550191"
      },
      "source": [
        "#Mengetahui distribusi normal dapat dengan membandingkan bentuk histogram dengan normal probability curve\n",
        "df.hist(column=\"Daerah\")"
      ],
      "execution_count": null,
      "outputs": [
        {
          "output_type": "execute_result",
          "data": {
            "text/plain": [
              "array([[<matplotlib.axes._subplots.AxesSubplot object at 0x00000271C69AA3C8>]],\n",
              "      dtype=object)"
            ]
          },
          "metadata": {
            "tags": []
          },
          "execution_count": 8
        },
        {
          "output_type": "display_data",
          "data": {
            "image/png": "[encoded data removed]",
            "text/plain": [
              "<Figure size 432x288 with 1 Axes>"
            ]
          },
          "metadata": {
            "tags": [],
            "needs_background": "light"
          }
        }
      ]
    },
    {
      "cell_type": "code",
      "metadata": {
        "id": "TP4lw4hunLJR",
        "outputId": "f6aca6d1-ded6-4540-ad0d-b891fa76546f"
      },
      "source": [
        "df.boxplot(column=\"Daerah\")"
      ],
      "execution_count": null,
      "outputs": [
        {
          "output_type": "execute_result",
          "data": {
            "text/plain": [
              "<matplotlib.axes._subplots.AxesSubplot at 0x271c718b988>"
            ]
          },
          "metadata": {
            "tags": []
          },
          "execution_count": 9
        },
        {
          "output_type": "display_data",
          "data": {
            "image/png": "[encoded data removed]",
            "text/plain": [
              "<Figure size 432x288 with 1 Axes>"
            ]
          },
          "metadata": {
            "tags": [],
            "needs_background": "light"
          }
        }
      ]
    },
    {
      "cell_type": "code",
      "metadata": {
        "id": "TOYbO3nPnLJS",
        "outputId": "5f39ac6b-f124-4264-bc20-6d5c93892821"
      },
      "source": [
        "print(\"Pengujian distribusi normal dengan normality test Quartile-Quartile plot: \")\n",
        "stats.probplot(df[\"Daerah\"], dist=\"norm\", plot=pylab)\n",
        "pylab.show()\n",
        "print(\"Kesimpulan: Berdistribusi normal\")"
      ],
      "execution_count": null,
      "outputs": [
        {
          "output_type": "stream",
          "text": [
            "Pengujian distribusi normal dengan normality test Quartile-Quartile plot: \n"
          ],
          "name": "stdout"
        },
        {
          "output_type": "display_data",
          "data": {
            "image/png": "[encoded data removed]",
            "text/plain": [
              "<Figure size 432x288 with 1 Axes>"
            ]
          },
          "metadata": {
            "tags": [],
            "needs_background": "light"
          }
        },
        {
          "output_type": "stream",
          "text": [
            "Kesimpulan: Berdistribusi normal\n"
          ],
          "name": "stdout"
        }
      ]
    },
    {
      "cell_type": "code",
      "metadata": {
        "id": "aXTPYWpvnLJT",
        "outputId": "e336c6d6-98bd-407f-e417-2674d6ecc128"
      },
      "source": [
        "df.hist(column=\"SumbuUtama\")"
      ],
      "execution_count": null,
      "outputs": [
        {
          "output_type": "execute_result",
          "data": {
            "text/plain": [
              "array([[<matplotlib.axes._subplots.AxesSubplot object at 0x00000271C71E6288>]],\n",
              "      dtype=object)"
            ]
          },
          "metadata": {
            "tags": []
          },
          "execution_count": 11
        },
        {
          "output_type": "display_data",
          "data": {
            "image/png": "[encoded data removed]",
            "text/plain": [
              "<Figure size 432x288 with 1 Axes>"
            ]
          },
          "metadata": {
            "tags": [],
            "needs_background": "light"
          }
        }
      ]
    },
    {
      "cell_type": "code",
      "metadata": {
        "id": "mRVOg720nLJU",
        "outputId": "ca541cfb-c029-4bfe-d0b6-4f53c0d17cbb"
      },
      "source": [
        "df.boxplot(column=\"SumbuUtama\")"
      ],
      "execution_count": null,
      "outputs": [
        {
          "output_type": "execute_result",
          "data": {
            "text/plain": [
              "<matplotlib.axes._subplots.AxesSubplot at 0x271c776b848>"
            ]
          },
          "metadata": {
            "tags": []
          },
          "execution_count": 12
        },
        {
          "output_type": "display_data",
          "data": {
            "image/png": "[encoded data removed]",
            "text/plain": [
              "<Figure size 432x288 with 1 Axes>"
            ]
          },
          "metadata": {
            "tags": [],
            "needs_background": "light"
          }
        }
      ]
    },
    {
      "cell_type": "code",
      "metadata": {
        "id": "zaovCV01nLJU",
        "outputId": "902d64cb-41d3-413f-8390-f4f861fd6fa9"
      },
      "source": [
        "print(\"Pengujian distribusi normal dengan normality test Quartile-Quartile plot: \")\n",
        "stats.probplot(df[\"SumbuUtama\"], dist=\"norm\", plot=pylab)\n",
        "pylab.show()\n",
        "print(\"Kesimpulan: Berdistribusi normal, dengan outlier yang signifikan\")"
      ],
      "execution_count": null,
      "outputs": [
        {
          "output_type": "stream",
          "text": [
            "Pengujian distribusi normal dengan normality test Quartile-Quartile plot: \n"
          ],
          "name": "stdout"
        },
        {
          "output_type": "display_data",
          "data": {
            "image/png": "[encoded data removed]",
            "text/plain": [
              "<Figure size 432x288 with 1 Axes>"
            ]
          },
          "metadata": {
            "tags": [],
            "needs_background": "light"
          }
        },
        {
          "output_type": "stream",
          "text": [
            "Kesimpulan: Berdistribusi normal, dengan outlier yang signifikan\n"
          ],
          "name": "stdout"
        }
      ]
    },
    {
      "cell_type": "code",
      "metadata": {
        "id": "FJ50Cp3RnLJV",
        "outputId": "5381aea5-9412-44aa-a61e-eda621313002"
      },
      "source": [
        "df.hist(column=\"SumbuKecil\")"
      ],
      "execution_count": null,
      "outputs": [
        {
          "output_type": "execute_result",
          "data": {
            "text/plain": [
              "array([[<matplotlib.axes._subplots.AxesSubplot object at 0x00000271C76B7D88>]],\n",
              "      dtype=object)"
            ]
          },
          "metadata": {
            "tags": []
          },
          "execution_count": 14
        },
        {
          "output_type": "display_data",
          "data": {
            "image/png": "[encoded data removed]",
            "text/plain": [
              "<Figure size 432x288 with 1 Axes>"
            ]
          },
          "metadata": {
            "tags": [],
            "needs_background": "light"
          }
        }
      ]
    },
    {
      "cell_type": "code",
      "metadata": {
        "id": "pVnd5Ks4nLJW",
        "outputId": "862c1517-b720-44a0-871c-1f58cd46bfb0"
      },
      "source": [
        "df.boxplot(column=\"SumbuKecil\")"
      ],
      "execution_count": null,
      "outputs": [
        {
          "output_type": "execute_result",
          "data": {
            "text/plain": [
              "<matplotlib.axes._subplots.AxesSubplot at 0x271c78acf08>"
            ]
          },
          "metadata": {
            "tags": []
          },
          "execution_count": 15
        },
        {
          "output_type": "display_data",
          "data": {
            "image/png": "[encoded data removed]",
            "text/plain": [
              "<Figure size 432x288 with 1 Axes>"
            ]
          },
          "metadata": {
            "tags": [],
            "needs_background": "light"
          }
        }
      ]
    },
    {
      "cell_type": "code",
      "metadata": {
        "id": "6DL7Q8nZnLJX",
        "outputId": "a0fbaa6b-c1e1-4e0a-bb49-ffb8625d3e8e"
      },
      "source": [
        "print(\"Pengujian distribusi normal dengan normality test Quartile-Quartile plot: \")\n",
        "stats.probplot(df[\"SumbuKecil\"], dist=\"norm\", plot=pylab)\n",
        "pylab.show()\n",
        "print(\"Kesimpulan: Berdistribusi normal\")"
      ],
      "execution_count": null,
      "outputs": [
        {
          "output_type": "stream",
          "text": [
            "Pengujian distribusi normal dengan normality test Quartile-Quartile plot: \n"
          ],
          "name": "stdout"
        },
        {
          "output_type": "display_data",
          "data": {
            "image/png": "[encoded data removed]",
            "text/plain": [
              "<Figure size 432x288 with 1 Axes>"
            ]
          },
          "metadata": {
            "tags": [],
            "needs_background": "light"
          }
        },
        {
          "output_type": "stream",
          "text": [
            "Kesimpulan: Berdistribusi normal\n"
          ],
          "name": "stdout"
        }
      ]
    },
    {
      "cell_type": "code",
      "metadata": {
        "id": "R1_k3VhQnLJZ",
        "outputId": "74533f19-5eed-4352-c21a-9b3a47b3bd2f"
      },
      "source": [
        "df.hist(column=\"Keunikan\")"
      ],
      "execution_count": null,
      "outputs": [
        {
          "output_type": "execute_result",
          "data": {
            "text/plain": [
              "array([[<matplotlib.axes._subplots.AxesSubplot object at 0x00000271C793BA48>]],\n",
              "      dtype=object)"
            ]
          },
          "metadata": {
            "tags": []
          },
          "execution_count": 17
        },
        {
          "output_type": "display_data",
          "data": {
            "image/png": "[encoded data removed]",
            "text/plain": [
              "<Figure size 432x288 with 1 Axes>"
            ]
          },
          "metadata": {
            "tags": [],
            "needs_background": "light"
          }
        }
      ]
    },
    {
      "cell_type": "code",
      "metadata": {
        "id": "7uzOOb74nLJa",
        "outputId": "b251c7e8-9d24-4fe8-80c4-f5dc884a6f6b"
      },
      "source": [
        "df.boxplot(column=\"Keunikan\")"
      ],
      "execution_count": null,
      "outputs": [
        {
          "output_type": "execute_result",
          "data": {
            "text/plain": [
              "<matplotlib.axes._subplots.AxesSubplot at 0x271c7a3d588>"
            ]
          },
          "metadata": {
            "tags": []
          },
          "execution_count": 18
        },
        {
          "output_type": "display_data",
          "data": {
            "image/png": "[encoded data removed]",
            "text/plain": [
              "<Figure size 432x288 with 1 Axes>"
            ]
          },
          "metadata": {
            "tags": [],
            "needs_background": "light"
          }
        }
      ]
    },
    {
      "cell_type": "code",
      "metadata": {
        "id": "aeYzJ4CFnLJc",
        "outputId": "f27b58ca-bafb-4f76-bc7b-ad39fc3f552f"
      },
      "source": [
        "print(\"Pengujian distribusi normal dengan normality test Quartile-Quartile plot: \")\n",
        "stats.probplot(df[\"Keunikan\"], dist=\"norm\", plot=pylab)\n",
        "pylab.show()\n",
        "print(\"Kesimpulan: Tidak berdistribusi normal\")"
      ],
      "execution_count": null,
      "outputs": [
        {
          "output_type": "stream",
          "text": [
            "Pengujian distribusi normal dengan normality test Quartile-Quartile plot: \n"
          ],
          "name": "stdout"
        },
        {
          "output_type": "display_data",
          "data": {
            "image/png": "[encoded data removed]",
            "text/plain": [
              "<Figure size 432x288 with 1 Axes>"
            ]
          },
          "metadata": {
            "tags": [],
            "needs_background": "light"
          }
        },
        {
          "output_type": "stream",
          "text": [
            "Kesimpulan: Tidak berdistribusi normal\n"
          ],
          "name": "stdout"
        }
      ]
    },
    {
      "cell_type": "code",
      "metadata": {
        "id": "kJVZ0RkanLJd",
        "outputId": "030bf46b-0d48-416f-ab7a-30a179deaad1"
      },
      "source": [
        "df.hist(column=\"AreaBulatan\")"
      ],
      "execution_count": null,
      "outputs": [
        {
          "output_type": "execute_result",
          "data": {
            "text/plain": [
              "array([[<matplotlib.axes._subplots.AxesSubplot object at 0x00000271C7828488>]],\n",
              "      dtype=object)"
            ]
          },
          "metadata": {
            "tags": []
          },
          "execution_count": 20
        },
        {
          "output_type": "display_data",
          "data": {
            "image/png": "[encoded data removed]",
            "text/plain": [
              "<Figure size 432x288 with 1 Axes>"
            ]
          },
          "metadata": {
            "tags": [],
            "needs_background": "light"
          }
        }
      ]
    },
    {
      "cell_type": "code",
      "metadata": {
        "id": "28auyH2jnLJe",
        "outputId": "5bb0f6d4-8c33-4b48-ba44-6731b73e1f07"
      },
      "source": [
        "df.boxplot(column=\"AreaBulatan\")"
      ],
      "execution_count": null,
      "outputs": [
        {
          "output_type": "execute_result",
          "data": {
            "text/plain": [
              "<matplotlib.axes._subplots.AxesSubplot at 0x271c7226d48>"
            ]
          },
          "metadata": {
            "tags": []
          },
          "execution_count": 21
        },
        {
          "output_type": "display_data",
          "data": {
            "image/png": "[encoded data removed]",
            "text/plain": [
              "<Figure size 432x288 with 1 Axes>"
            ]
          },
          "metadata": {
            "tags": [],
            "needs_background": "light"
          }
        }
      ]
    },
    {
      "cell_type": "code",
      "metadata": {
        "id": "p_YFj3whnLJf",
        "outputId": "57c96617-4690-4a02-cb5e-f4aadb9293b8"
      },
      "source": [
        "print(\"Pengujian distribusi normal dengan normality test Quartile-Quartile plot: \")\n",
        "stats.probplot(df[\"AreaBulatan\"], dist=\"norm\", plot=pylab)\n",
        "pylab.show()\n",
        "print(\"Kesimpulan: Berdistribusi normal\")"
      ],
      "execution_count": null,
      "outputs": [
        {
          "output_type": "stream",
          "text": [
            "Pengujian distribusi normal dengan normality test Quartile-Quartile plot: \n"
          ],
          "name": "stdout"
        },
        {
          "output_type": "display_data",
          "data": {
            "image/png": "[encoded data removed]",
            "text/plain": [
              "<Figure size 432x288 with 1 Axes>"
            ]
          },
          "metadata": {
            "tags": [],
            "needs_background": "light"
          }
        },
        {
          "output_type": "stream",
          "text": [
            "Kesimpulan: Berdistribusi normal\n"
          ],
          "name": "stdout"
        }
      ]
    },
    {
      "cell_type": "code",
      "metadata": {
        "id": "OjwdYh2WnLJg",
        "outputId": "4824d8a0-6429-411f-ccc9-739811c85fa0"
      },
      "source": [
        "df.hist(column=\"Diameter\")"
      ],
      "execution_count": null,
      "outputs": [
        {
          "output_type": "execute_result",
          "data": {
            "text/plain": [
              "array([[<matplotlib.axes._subplots.AxesSubplot object at 0x00000271C7A998C8>]],\n",
              "      dtype=object)"
            ]
          },
          "metadata": {
            "tags": []
          },
          "execution_count": 23
        },
        {
          "output_type": "display_data",
          "data": {
            "image/png": "[encoded data removed]",
            "text/plain": [
              "<Figure size 432x288 with 1 Axes>"
            ]
          },
          "metadata": {
            "tags": [],
            "needs_background": "light"
          }
        }
      ]
    },
    {
      "cell_type": "code",
      "metadata": {
        "id": "BhVwb_-5nLJg",
        "outputId": "fc0ced1f-cc50-435f-88e8-b74e203bb99d"
      },
      "source": [
        "df.boxplot(column=\"Diameter\")"
      ],
      "execution_count": null,
      "outputs": [
        {
          "output_type": "execute_result",
          "data": {
            "text/plain": [
              "<matplotlib.axes._subplots.AxesSubplot at 0x271c7bbda48>"
            ]
          },
          "metadata": {
            "tags": []
          },
          "execution_count": 24
        },
        {
          "output_type": "display_data",
          "data": {
            "image/png": "[encoded data removed]",
            "text/plain": [
              "<Figure size 432x288 with 1 Axes>"
            ]
          },
          "metadata": {
            "tags": [],
            "needs_background": "light"
          }
        }
      ]
    },
    {
      "cell_type": "code",
      "metadata": {
        "id": "bdDmApvdnLJh",
        "outputId": "7f180967-20bc-4859-9226-f548cc6fe60b"
      },
      "source": [
        "print(\"Pengujian distribusi normal dengan normality test Quartile-Quartile plot: \")\n",
        "stats.probplot(df[\"Diameter\"], dist=\"norm\", plot=pylab)\n",
        "pylab.show()\n",
        "print(\"Kesimpulan: Berdistribusi normal\")"
      ],
      "execution_count": null,
      "outputs": [
        {
          "output_type": "stream",
          "text": [
            "Pengujian distribusi normal dengan normality test Quartile-Quartile plot: \n"
          ],
          "name": "stdout"
        },
        {
          "output_type": "display_data",
          "data": {
            "image/png": "[encoded data removed]",
            "text/plain": [
              "<Figure size 432x288 with 1 Axes>"
            ]
          },
          "metadata": {
            "tags": [],
            "needs_background": "light"
          }
        },
        {
          "output_type": "stream",
          "text": [
            "Kesimpulan: Berdistribusi normal\n"
          ],
          "name": "stdout"
        }
      ]
    },
    {
      "cell_type": "code",
      "metadata": {
        "id": "TbhvK_DPnLJi",
        "outputId": "f867e130-e26f-4125-9e81-2edb9753df39"
      },
      "source": [
        "df.hist(column=\"KadarAir\")"
      ],
      "execution_count": null,
      "outputs": [
        {
          "output_type": "execute_result",
          "data": {
            "text/plain": [
              "array([[<matplotlib.axes._subplots.AxesSubplot object at 0x00000271C7BFE7C8>]],\n",
              "      dtype=object)"
            ]
          },
          "metadata": {
            "tags": []
          },
          "execution_count": 26
        },
        {
          "output_type": "display_data",
          "data": {
            "image/png": "[encoded data removed]",
            "text/plain": [
              "<Figure size 432x288 with 1 Axes>"
            ]
          },
          "metadata": {
            "tags": [],
            "needs_background": "light"
          }
        }
      ]
    },
    {
      "cell_type": "code",
      "metadata": {
        "id": "CCyCnKeynLJi",
        "outputId": "8fdaa219-ca3d-492c-b473-012d6f4ed77c"
      },
      "source": [
        "df.boxplot(column=\"KadarAir\")"
      ],
      "execution_count": null,
      "outputs": [
        {
          "output_type": "execute_result",
          "data": {
            "text/plain": [
              "<matplotlib.axes._subplots.AxesSubplot at 0x271c7d0f448>"
            ]
          },
          "metadata": {
            "tags": []
          },
          "execution_count": 27
        },
        {
          "output_type": "display_data",
          "data": {
            "image/png": "[encoded data removed]",
            "text/plain": [
              "<Figure size 432x288 with 1 Axes>"
            ]
          },
          "metadata": {
            "tags": [],
            "needs_background": "light"
          }
        }
      ]
    },
    {
      "cell_type": "code",
      "metadata": {
        "id": "0ZIsqeuxnLJj",
        "outputId": "e908207b-211f-43e5-c970-59967db654a9"
      },
      "source": [
        "print(\"Pengujian distribusi normal dengan normality test Quartile-Quartile plot: \")\n",
        "stats.probplot(df[\"KadarAir\"], dist=\"norm\", plot=pylab)\n",
        "pylab.show()\n",
        "print(\"Kesimpulan: Tidak berdistribusi normal\")"
      ],
      "execution_count": null,
      "outputs": [
        {
          "output_type": "stream",
          "text": [
            "Pengujian distribusi normal dengan normality test Quartile-Quartile plot: \n"
          ],
          "name": "stdout"
        },
        {
          "output_type": "display_data",
          "data": {
            "image/png": "[encoded data removed]",
            "text/plain": [
              "<Figure size 432x288 with 1 Axes>"
            ]
          },
          "metadata": {
            "tags": [],
            "needs_background": "light"
          }
        },
        {
          "output_type": "stream",
          "text": [
            "Kesimpulan: Tidak berdistribusi normal\n"
          ],
          "name": "stdout"
        }
      ]
    },
    {
      "cell_type": "code",
      "metadata": {
        "id": "L0EM2yP_nLJk",
        "outputId": "7920693c-6ca8-4d03-bdf3-e7ca744fc418"
      },
      "source": [
        "df.hist(column=\"Keliling\")"
      ],
      "execution_count": null,
      "outputs": [
        {
          "output_type": "execute_result",
          "data": {
            "text/plain": [
              "array([[<matplotlib.axes._subplots.AxesSubplot object at 0x00000271C7DE9848>]],\n",
              "      dtype=object)"
            ]
          },
          "metadata": {
            "tags": []
          },
          "execution_count": 29
        },
        {
          "output_type": "display_data",
          "data": {
            "image/png": "[encoded data removed]",
            "text/plain": [
              "<Figure size 432x288 with 1 Axes>"
            ]
          },
          "metadata": {
            "tags": [],
            "needs_background": "light"
          }
        }
      ]
    },
    {
      "cell_type": "code",
      "metadata": {
        "id": "C-1ByOPjnLJl",
        "outputId": "d7147bdc-b13b-4b2f-f920-5db3ed87ed1e"
      },
      "source": [
        "df.boxplot(column=\"Keliling\")"
      ],
      "execution_count": null,
      "outputs": [
        {
          "output_type": "execute_result",
          "data": {
            "text/plain": [
              "<matplotlib.axes._subplots.AxesSubplot at 0x271c7e4f908>"
            ]
          },
          "metadata": {
            "tags": []
          },
          "execution_count": 30
        },
        {
          "output_type": "display_data",
          "data": {
            "image/png": "[encoded data removed]",
            "text/plain": [
              "<Figure size 432x288 with 1 Axes>"
            ]
          },
          "metadata": {
            "tags": [],
            "needs_background": "light"
          }
        }
      ]
    },
    {
      "cell_type": "code",
      "metadata": {
        "id": "r12k4LZrnLJm",
        "outputId": "5c822b1c-6c6a-4000-d199-653fc027c116"
      },
      "source": [
        "print(\"Pengujian distribusi normal dengan normality test Quartile-Quartile plot: \")\n",
        "stats.probplot(df[\"Keliling\"], dist=\"norm\", plot=pylab)\n",
        "pylab.show()\n",
        "print(\"Kesimpulan: Berdistribusi normal, dengan outlier signifikan\")"
      ],
      "execution_count": null,
      "outputs": [
        {
          "output_type": "stream",
          "text": [
            "Pengujian distribusi normal dengan normality test Quartile-Quartile plot: \n"
          ],
          "name": "stdout"
        },
        {
          "output_type": "display_data",
          "data": {
            "image/png": "[encoded data removed]",
            "text/plain": [
              "<Figure size 432x288 with 1 Axes>"
            ]
          },
          "metadata": {
            "tags": [],
            "needs_background": "light"
          }
        },
        {
          "output_type": "stream",
          "text": [
            "Kesimpulan: Berdistribusi normal, dengan outlier signifikan\n"
          ],
          "name": "stdout"
        }
      ]
    },
    {
      "cell_type": "code",
      "metadata": {
        "id": "kBeNjUdXnLJn",
        "outputId": "2cb67d31-a378-40da-b33e-8fea005037df"
      },
      "source": [
        "df.hist(column=\"Bulatan\")"
      ],
      "execution_count": null,
      "outputs": [
        {
          "output_type": "execute_result",
          "data": {
            "text/plain": [
              "array([[<matplotlib.axes._subplots.AxesSubplot object at 0x00000271C7D71B08>]],\n",
              "      dtype=object)"
            ]
          },
          "metadata": {
            "tags": []
          },
          "execution_count": 32
        },
        {
          "output_type": "display_data",
          "data": {
            "image/png": "[encoded data removed]",
            "text/plain": [
              "<Figure size 432x288 with 1 Axes>"
            ]
          },
          "metadata": {
            "tags": [],
            "needs_background": "light"
          }
        }
      ]
    },
    {
      "cell_type": "code",
      "metadata": {
        "id": "Yz4ZWnSxnLJn",
        "outputId": "2429e090-7da4-47d5-f0b5-f37a435eeb74"
      },
      "source": [
        "df.boxplot(column=\"Bulatan\")"
      ],
      "execution_count": null,
      "outputs": [
        {
          "output_type": "execute_result",
          "data": {
            "text/plain": [
              "<matplotlib.axes._subplots.AxesSubplot at 0x271c79bbf08>"
            ]
          },
          "metadata": {
            "tags": []
          },
          "execution_count": 33
        },
        {
          "output_type": "display_data",
          "data": {
            "image/png": "[encoded data removed]",
            "text/plain": [
              "<Figure size 432x288 with 1 Axes>"
            ]
          },
          "metadata": {
            "tags": [],
            "needs_background": "light"
          }
        }
      ]
    },
    {
      "cell_type": "code",
      "metadata": {
        "id": "AEdCmtypnLJo",
        "outputId": "5dbb373c-0f06-49b6-ccda-dc2e5fd90d42"
      },
      "source": [
        "print(\"Pengujian distribusi normal dengan normality test Quartile-Quartile plot: \")\n",
        "stats.probplot(df[\"Bulatan\"], dist=\"norm\", plot=pylab)\n",
        "pylab.show()\n",
        "print(\"Kesimpulan: Berdistribusi normal, dengan outlier signifikan\")"
      ],
      "execution_count": null,
      "outputs": [
        {
          "output_type": "stream",
          "text": [
            "Pengujian distribusi normal dengan normality test Quartile-Quartile plot: \n"
          ],
          "name": "stdout"
        },
        {
          "output_type": "display_data",
          "data": {
            "image/png": "[encoded data removed]",
            "text/plain": [
              "<Figure size 432x288 with 1 Axes>"
            ]
          },
          "metadata": {
            "tags": [],
            "needs_background": "light"
          }
        },
        {
          "output_type": "stream",
          "text": [
            "Kesimpulan: Berdistribusi normal, dengan outlier signifikan\n"
          ],
          "name": "stdout"
        }
      ]
    },
    {
      "cell_type": "code",
      "metadata": {
        "id": "snGOhH-YnLJr",
        "outputId": "8bf6cbcf-c9a2-4c33-f41e-58309ebcdbea"
      },
      "source": [
        "df.hist(column=\"Ransum\")"
      ],
      "execution_count": null,
      "outputs": [
        {
          "output_type": "execute_result",
          "data": {
            "text/plain": [
              "array([[<matplotlib.axes._subplots.AxesSubplot object at 0x00000271C7ED2548>]],\n",
              "      dtype=object)"
            ]
          },
          "metadata": {
            "tags": []
          },
          "execution_count": 35
        },
        {
          "output_type": "display_data",
          "data": {
            "image/png": "[encoded data removed]",
            "text/plain": [
              "<Figure size 432x288 with 1 Axes>"
            ]
          },
          "metadata": {
            "tags": [],
            "needs_background": "light"
          }
        }
      ]
    },
    {
      "cell_type": "code",
      "metadata": {
        "id": "M1VszJGhnLJs",
        "outputId": "2e0622e6-ff76-40eb-b6df-5652b40845de"
      },
      "source": [
        "df.boxplot(column=\"Ransum\")"
      ],
      "execution_count": null,
      "outputs": [
        {
          "output_type": "execute_result",
          "data": {
            "text/plain": [
              "<matplotlib.axes._subplots.AxesSubplot at 0x271c7f88948>"
            ]
          },
          "metadata": {
            "tags": []
          },
          "execution_count": 36
        },
        {
          "output_type": "display_data",
          "data": {
            "image/png": "[encoded data removed]",
            "text/plain": [
              "<Figure size 432x288 with 1 Axes>"
            ]
          },
          "metadata": {
            "tags": [],
            "needs_background": "light"
          }
        }
      ]
    },
    {
      "cell_type": "code",
      "metadata": {
        "id": "0cfAjfu7nLJs",
        "outputId": "1937004b-3ba9-4147-9ba2-2bd8d97bc6fc"
      },
      "source": [
        "print(\"Pengujian distribusi normal dengan normality test Quartile-Quartile plot: \")\n",
        "stats.probplot(df[\"Ransum\"], dist=\"norm\", plot=pylab)\n",
        "pylab.show()\n",
        "print(\"Kesimpulan: Tidak berdistribusi normal\")"
      ],
      "execution_count": null,
      "outputs": [
        {
          "output_type": "stream",
          "text": [
            "Pengujian distribusi normal dengan normality test Quartile-Quartile plot: \n"
          ],
          "name": "stdout"
        },
        {
          "output_type": "display_data",
          "data": {
            "image/png": "[encoded data removed]",
            "text/plain": [
              "<Figure size 432x288 with 1 Axes>"
            ]
          },
          "metadata": {
            "tags": [],
            "needs_background": "light"
          }
        },
        {
          "output_type": "stream",
          "text": [
            "Kesimpulan: Tidak berdistribusi normal\n"
          ],
          "name": "stdout"
        }
      ]
    },
    {
      "cell_type": "code",
      "metadata": {
        "id": "7NYGlP-WnLJt",
        "outputId": "fbc8aedb-ea13-4c4c-8269-e482971aff10"
      },
      "source": [
        "df.hist(column=\"Kelas\")"
      ],
      "execution_count": null,
      "outputs": [
        {
          "output_type": "execute_result",
          "data": {
            "text/plain": [
              "array([[<matplotlib.axes._subplots.AxesSubplot object at 0x00000271C7FECAC8>]],\n",
              "      dtype=object)"
            ]
          },
          "metadata": {
            "tags": []
          },
          "execution_count": 38
        },
        {
          "output_type": "display_data",
          "data": {
            "image/png": "[encoded data removed]",
            "text/plain": [
              "<Figure size 432x288 with 1 Axes>"
            ]
          },
          "metadata": {
            "tags": [],
            "needs_background": "light"
          }
        }
      ]
    },
    {
      "cell_type": "code",
      "metadata": {
        "id": "nXPNFrMKnLJu",
        "outputId": "a14c9488-7bf2-4d8f-a89c-5990b951fccd"
      },
      "source": [
        "df.boxplot(column=\"Kelas\")"
      ],
      "execution_count": null,
      "outputs": [
        {
          "output_type": "execute_result",
          "data": {
            "text/plain": [
              "<matplotlib.axes._subplots.AxesSubplot at 0x271c90b6708>"
            ]
          },
          "metadata": {
            "tags": []
          },
          "execution_count": 39
        },
        {
          "output_type": "display_data",
          "data": {
            "image/png": "[encoded data removed]",
            "text/plain": [
              "<Figure size 432x288 with 1 Axes>"
            ]
          },
          "metadata": {
            "tags": [],
            "needs_background": "light"
          }
        }
      ]
    },
    {
      "cell_type": "code",
      "metadata": {
        "id": "3SjFZ9tRnLJu",
        "outputId": "db4f27db-b592-4be8-a74f-c7124e97c849"
      },
      "source": [
        "print(\"Pengujian distribusi normal dengan normality test Quartile-Quartile plot: \")\n",
        "stats.probplot(df[\"Kelas\"], dist=\"norm\", plot=pylab)\n",
        "pylab.show()\n",
        "print(\"Kesimpulan: Tidak berdistribusi normal\")"
      ],
      "execution_count": null,
      "outputs": [
        {
          "output_type": "stream",
          "text": [
            "Pengujian distribusi normal dengan normality test Quartile-Quartile plot: \n"
          ],
          "name": "stdout"
        },
        {
          "output_type": "display_data",
          "data": {
            "image/png": "[encoded data removed]",
            "text/plain": [
              "<Figure size 432x288 with 1 Axes>"
            ]
          },
          "metadata": {
            "tags": [],
            "needs_background": "light"
          }
        },
        {
          "output_type": "stream",
          "text": [
            "Kesimpulan: Tidak berdistribusi normal\n"
          ],
          "name": "stdout"
        }
      ]
    },
    {
      "cell_type": "code",
      "metadata": {
        "id": "sBj_Zbg_nLJv",
        "outputId": "4e56f9bc-f85d-4c58-8955-160f0cc221da"
      },
      "source": [
        "#Korelasi\n",
        "#Target adalah kolom \"Kelas\", yang memiliki nilai 1 atau 2\n",
        "print(\"Correlation\")"
      ],
      "execution_count": null,
      "outputs": [
        {
          "output_type": "stream",
          "text": [
            "Correlation\n"
          ],
          "name": "stdout"
        }
      ]
    },
    {
      "cell_type": "code",
      "metadata": {
        "colab": {
          "base_uri": "https://localhost:8080/",
          "height": 296
        },
        "id": "ZXZcHwIFnLJw",
        "outputId": "1c96ec4c-0ec4-43ad-bac0-ce287c7b67db"
      },
      "source": [
        "#Kelas-Daerah\n",
        "df.plot.scatter( x = 'Kelas', y = 'Daerah')"
      ],
      "execution_count": 6,
      "outputs": [
        {
          "output_type": "execute_result",
          "data": {
            "text/plain": [
              "<matplotlib.axes._subplots.AxesSubplot at 0x7f5cfa686750>"
            ]
          },
          "metadata": {
            "tags": []
          },
          "execution_count": 6
        },
        {
          "output_type": "display_data",
          "data": {
            "image/png": "[encoded data removed]",
            "text/plain": [
              "<Figure size 432x288 with 1 Axes>"
            ]
          },
          "metadata": {
            "tags": [],
            "needs_background": "light"
          }
        }
      ]
    },
    {
      "cell_type": "code",
      "metadata": {
        "id": "Zsx8ef-lnLJx",
        "outputId": "e9320763-ad82-43a3-d66b-1f88a7de1c70"
      },
      "source": [
        "print(\"Korelasi negatif kuat (0.6-0.79)\")\n",
        "df[\"Kelas\"].corr(df[\"Daerah\"])"
      ],
      "execution_count": null,
      "outputs": [
        {
          "output_type": "stream",
          "text": [
            "Korelasi negatif kuat (0.6-0.79)\n"
          ],
          "name": "stdout"
        },
        {
          "output_type": "execute_result",
          "data": {
            "text/plain": [
              "-0.6027466517416654"
            ]
          },
          "metadata": {
            "tags": []
          },
          "execution_count": 43
        }
      ]
    },
    {
      "cell_type": "code",
      "metadata": {
        "id": "ja-4Na2TnLJy",
        "outputId": "8e52be30-7896-4499-b78a-84b624542d01"
      },
      "source": [
        "#Kelas-SumbuUtama\n",
        "df.plot.scatter(\"Kelas\", \"SumbuUtama\")"
      ],
      "execution_count": null,
      "outputs": [
        {
          "output_type": "execute_result",
          "data": {
            "text/plain": [
              "<matplotlib.axes._subplots.AxesSubplot at 0x271c91f1808>"
            ]
          },
          "metadata": {
            "tags": []
          },
          "execution_count": 44
        },
        {
          "output_type": "display_data",
          "data": {
            "image/png": "[encoded data removed]",
            "text/plain": [
              "<Figure size 432x288 with 1 Axes>"
            ]
          },
          "metadata": {
            "tags": [],
            "needs_background": "light"
          }
        }
      ]
    },
    {
      "cell_type": "code",
      "metadata": {
        "id": "sdnmlkdBnLJz",
        "outputId": "bcecb8ef-6daf-4af3-dfee-cdefd4aa1d64"
      },
      "source": [
        "print(\"Korelasi negatif kuat (0.6-0.79)\")\n",
        "df[\"Kelas\"].corr(df[\"SumbuUtama\"])"
      ],
      "execution_count": null,
      "outputs": [
        {
          "output_type": "stream",
          "text": [
            "Korelasi negatif kuat (0.6-0.79)\n"
          ],
          "name": "stdout"
        },
        {
          "output_type": "execute_result",
          "data": {
            "text/plain": [
              "-0.7130906104204592"
            ]
          },
          "metadata": {
            "tags": []
          },
          "execution_count": 45
        }
      ]
    },
    {
      "cell_type": "code",
      "metadata": {
        "id": "D89aSJyDnLJz",
        "outputId": "5b9f1752-c546-4108-f165-c34df82939f7"
      },
      "source": [
        "#Kelas-SumbuKecil\n",
        "df.plot.scatter(\"Kelas\", \"SumbuKecil\")"
      ],
      "execution_count": null,
      "outputs": [
        {
          "output_type": "execute_result",
          "data": {
            "text/plain": [
              "<matplotlib.axes._subplots.AxesSubplot at 0x271c9265fc8>"
            ]
          },
          "metadata": {
            "tags": []
          },
          "execution_count": 46
        },
        {
          "output_type": "display_data",
          "data": {
            "image/png": "[encoded data removed]",
            "text/plain": [
              "<Figure size 432x288 with 1 Axes>"
            ]
          },
          "metadata": {
            "tags": [],
            "needs_background": "light"
          }
        }
      ]
    },
    {
      "cell_type": "code",
      "metadata": {
        "id": "Yt3-vOfbnLJ0",
        "outputId": "ce733532-2619-46f6-8402-c864998c1c95"
      },
      "source": [
        "print(\"Korelasi negatif sangat lemah (0.0-0.19)\")\n",
        "df[\"Kelas\"].corr(df[\"SumbuKecil\"])"
      ],
      "execution_count": null,
      "outputs": [
        {
          "output_type": "stream",
          "text": [
            "Korelasi negatif sangat lemah (0.0-0.19)\n"
          ],
          "name": "stdout"
        },
        {
          "output_type": "execute_result",
          "data": {
            "text/plain": [
              "-0.15297517335535024"
            ]
          },
          "metadata": {
            "tags": []
          },
          "execution_count": 47
        }
      ]
    },
    {
      "cell_type": "code",
      "metadata": {
        "id": "8CVvEF8JnLJ0",
        "outputId": "546d79b9-2615-4022-ef2f-fb61a6cda8b1"
      },
      "source": [
        "#Kelas-Keunikan\n",
        "df.plot.scatter(\"Kelas\", \"Keunikan\")"
      ],
      "execution_count": null,
      "outputs": [
        {
          "output_type": "execute_result",
          "data": {
            "text/plain": [
              "<matplotlib.axes._subplots.AxesSubplot at 0x271c92c8288>"
            ]
          },
          "metadata": {
            "tags": []
          },
          "execution_count": 48
        },
        {
          "output_type": "display_data",
          "data": {
            "image/png": "[encoded data removed]",
            "text/plain": [
              "<Figure size 432x288 with 1 Axes>"
            ]
          },
          "metadata": {
            "tags": [],
            "needs_background": "light"
          }
        }
      ]
    },
    {
      "cell_type": "code",
      "metadata": {
        "id": "SOcvBLa7nLJ1",
        "outputId": "a950acf2-6008-4f36-e6aa-bbe94f474aa5"
      },
      "source": [
        "print(\"Korelasi negatif kuat (0.6-0.79)\")\n",
        "df[\"Kelas\"].corr(df[\"Keunikan\"])"
      ],
      "execution_count": null,
      "outputs": [
        {
          "output_type": "stream",
          "text": [
            "Korelasi negatif kuat (0.6-0.79)\n"
          ],
          "name": "stdout"
        },
        {
          "output_type": "execute_result",
          "data": {
            "text/plain": [
              "-0.7304563686511927"
            ]
          },
          "metadata": {
            "tags": []
          },
          "execution_count": 49
        }
      ]
    },
    {
      "cell_type": "code",
      "metadata": {
        "id": "36_RSHXYnLJ2",
        "outputId": "2596a45a-e3bc-484b-857b-22d6d8e44421"
      },
      "source": [
        "#Kelas-AreaBulatan\n",
        "df.plot.scatter(\"Kelas\", \"AreaBulatan\")"
      ],
      "execution_count": null,
      "outputs": [
        {
          "output_type": "execute_result",
          "data": {
            "text/plain": [
              "<matplotlib.axes._subplots.AxesSubplot at 0x271c932fa08>"
            ]
          },
          "metadata": {
            "tags": []
          },
          "execution_count": 50
        },
        {
          "output_type": "display_data",
          "data": {
            "image/png": "[encoded data removed]",
            "text/plain": [
              "<Figure size 432x288 with 1 Axes>"
            ]
          },
          "metadata": {
            "tags": [],
            "needs_background": "light"
          }
        }
      ]
    },
    {
      "cell_type": "code",
      "metadata": {
        "id": "atf2iWPbnLJ2",
        "outputId": "266e7a71-577e-4b2a-d665-1ce350601eec"
      },
      "source": [
        "print(\"Korelasi negatif kuat (0.6-0.79)\")\n",
        "df[\"Kelas\"].corr(df[\"AreaBulatan\"])"
      ],
      "execution_count": null,
      "outputs": [
        {
          "output_type": "stream",
          "text": [
            "Korelasi negatif kuat (0.6-0.79)\n"
          ],
          "name": "stdout"
        },
        {
          "output_type": "execute_result",
          "data": {
            "text/plain": [
              "-0.6073125434153747"
            ]
          },
          "metadata": {
            "tags": []
          },
          "execution_count": 51
        }
      ]
    },
    {
      "cell_type": "code",
      "metadata": {
        "id": "x30lVBxvnLJ3",
        "outputId": "c087c452-88ea-41b0-f699-52e25f98e7ee"
      },
      "source": [
        "#Kelas-Diameter\n",
        "df.plot.scatter(\"Kelas\", \"Diameter\")"
      ],
      "execution_count": null,
      "outputs": [
        {
          "output_type": "execute_result",
          "data": {
            "text/plain": [
              "<matplotlib.axes._subplots.AxesSubplot at 0x271c9173348>"
            ]
          },
          "metadata": {
            "tags": []
          },
          "execution_count": 52
        },
        {
          "output_type": "display_data",
          "data": {
            "image/png": "[encoded data removed]",
            "text/plain": [
              "<Figure size 432x288 with 1 Axes>"
            ]
          },
          "metadata": {
            "tags": [],
            "needs_background": "light"
          }
        }
      ]
    },
    {
      "cell_type": "code",
      "metadata": {
        "id": "NGSn_9IdnLJ4",
        "outputId": "69e1f201-c027-4ec7-fc48-02b4169fd2a1"
      },
      "source": [
        "print(\"Korelasi negatif kuat (0.6-0.79)\")\n",
        "df[\"Kelas\"].corr(df[\"Diameter\"])"
      ],
      "execution_count": null,
      "outputs": [
        {
          "output_type": "stream",
          "text": [
            "Korelasi negatif kuat (0.6-0.79)\n"
          ],
          "name": "stdout"
        },
        {
          "output_type": "execute_result",
          "data": {
            "text/plain": [
              "-0.6025356896618811"
            ]
          },
          "metadata": {
            "tags": []
          },
          "execution_count": 53
        }
      ]
    },
    {
      "cell_type": "code",
      "metadata": {
        "id": "AoR3miZinLJ5",
        "outputId": "aa21ae03-db27-4c81-e518-b9fd1057809e"
      },
      "source": [
        "#Kelas-KadarAir\n",
        "df.plot.scatter(\"Kelas\", \"KadarAir\")"
      ],
      "execution_count": null,
      "outputs": [
        {
          "output_type": "execute_result",
          "data": {
            "text/plain": [
              "<matplotlib.axes._subplots.AxesSubplot at 0x271c7eb18c8>"
            ]
          },
          "metadata": {
            "tags": []
          },
          "execution_count": 54
        },
        {
          "output_type": "display_data",
          "data": {
            "image/png": "[encoded data removed]",
            "text/plain": [
              "<Figure size 432x288 with 1 Axes>"
            ]
          },
          "metadata": {
            "tags": [],
            "needs_background": "light"
          }
        }
      ]
    },
    {
      "cell_type": "code",
      "metadata": {
        "id": "8BCsFU5dnLJ6",
        "outputId": "90fef0d0-45de-41c4-c70a-4b3791c45fdc"
      },
      "source": [
        "print(\"Korelasi positif sangat lemah (0.0-0.19)\")\n",
        "df[\"Kelas\"].corr(df[\"KadarAir\"])"
      ],
      "execution_count": null,
      "outputs": [
        {
          "output_type": "stream",
          "text": [
            "Korelasi positif sangat lemah (0.0-0.19)\n"
          ],
          "name": "stdout"
        },
        {
          "output_type": "execute_result",
          "data": {
            "text/plain": [
              "0.13434422605727644"
            ]
          },
          "metadata": {
            "tags": []
          },
          "execution_count": 55
        }
      ]
    },
    {
      "cell_type": "code",
      "metadata": {
        "id": "ss9mr5_vnLJ7",
        "outputId": "0b586b20-ec96-48a2-b88e-dfb3e5d91502"
      },
      "source": [
        "#Kelas-Keliling\n",
        "df.plot.scatter(\"Kelas\", \"Keliling\")"
      ],
      "execution_count": null,
      "outputs": [
        {
          "output_type": "execute_result",
          "data": {
            "text/plain": [
              "<matplotlib.axes._subplots.AxesSubplot at 0x271c7c5f1c8>"
            ]
          },
          "metadata": {
            "tags": []
          },
          "execution_count": 56
        },
        {
          "output_type": "display_data",
          "data": {
            "image/png": "[encoded data removed]",
            "text/plain": [
              "<Figure size 432x288 with 1 Axes>"
            ]
          },
          "metadata": {
            "tags": [],
            "needs_background": "light"
          }
        }
      ]
    },
    {
      "cell_type": "code",
      "metadata": {
        "id": "8tMl7GQPnLJ8",
        "outputId": "4ee626c1-b109-448e-fc36-6a57dd7d5367"
      },
      "source": [
        "print(\"Korelasi negatif kuat (0.6-0.79)\")\n",
        "df[\"Kelas\"].corr(df[\"Keliling\"])"
      ],
      "execution_count": null,
      "outputs": [
        {
          "output_type": "stream",
          "text": [
            "Korelasi negatif kuat (0.6-0.79)\n"
          ],
          "name": "stdout"
        },
        {
          "output_type": "execute_result",
          "data": {
            "text/plain": [
              "-0.6348607454756852"
            ]
          },
          "metadata": {
            "tags": []
          },
          "execution_count": 57
        }
      ]
    },
    {
      "cell_type": "code",
      "metadata": {
        "id": "V2KFpg3fnLJ9",
        "outputId": "7c0d1d68-b8b9-4278-cb49-e2a8d85dc187"
      },
      "source": [
        "#Kelas-Bulatan\n",
        "df.plot.scatter(\"Kelas\", \"Bulatan\")"
      ],
      "execution_count": null,
      "outputs": [
        {
          "output_type": "execute_result",
          "data": {
            "text/plain": [
              "<matplotlib.axes._subplots.AxesSubplot at 0x271c913c188>"
            ]
          },
          "metadata": {
            "tags": []
          },
          "execution_count": 58
        },
        {
          "output_type": "display_data",
          "data": {
            "image/png": "[encoded data removed]",
            "text/plain": [
              "<Figure size 432x288 with 1 Axes>"
            ]
          },
          "metadata": {
            "tags": [],
            "needs_background": "light"
          }
        }
      ]
    },
    {
      "cell_type": "code",
      "metadata": {
        "id": "RhMRbM_LnLJ9",
        "outputId": "3c5904c0-4e7c-4950-eb62-c00f9b2feb3b"
      },
      "source": [
        "print(\"Korelasi positif sedang (0.4-0.59)\")\n",
        "df[\"Kelas\"].corr(df[\"Bulatan\"])"
      ],
      "execution_count": null,
      "outputs": [
        {
          "output_type": "stream",
          "text": [
            "Korelasi positif sedang (0.4-0.59)\n"
          ],
          "name": "stdout"
        },
        {
          "output_type": "execute_result",
          "data": {
            "text/plain": [
              "0.5450045317240073"
            ]
          },
          "metadata": {
            "tags": []
          },
          "execution_count": 59
        }
      ]
    },
    {
      "cell_type": "code",
      "metadata": {
        "id": "JMNmLyEwnLJ-",
        "outputId": "b6c2d887-fbb7-4f25-9c7e-8ba8e8eaf328"
      },
      "source": [
        "#Kelas-Ransum\n",
        "df.plot.scatter(\"Kelas\", \"Ransum\")"
      ],
      "execution_count": null,
      "outputs": [
        {
          "output_type": "execute_result",
          "data": {
            "text/plain": [
              "<matplotlib.axes._subplots.AxesSubplot at 0x271c9378dc8>"
            ]
          },
          "metadata": {
            "tags": []
          },
          "execution_count": 60
        },
        {
          "output_type": "display_data",
          "data": {
            "image/png": "[encoded data removed]",
            "text/plain": [
              "<Figure size 432x288 with 1 Axes>"
            ]
          },
          "metadata": {
            "tags": [],
            "needs_background": "light"
          }
        }
      ]
    },
    {
      "cell_type": "code",
      "metadata": {
        "id": "H8xrSCb0nLJ_",
        "outputId": "d4a60bcb-8cc2-4773-ea5d-03c681338b52"
      },
      "source": [
        "print(\"Korelasi negatif sangat kuat (0.8-1.0)\")\n",
        "df[\"Kelas\"].corr(df[\"Ransum\"])"
      ],
      "execution_count": null,
      "outputs": [
        {
          "output_type": "stream",
          "text": [
            "Korelasi negatif sangat kuat (0.8-1.0)\n"
          ],
          "name": "stdout"
        },
        {
          "output_type": "execute_result",
          "data": {
            "text/plain": [
              "-0.8399038681287486"
            ]
          },
          "metadata": {
            "tags": []
          },
          "execution_count": 61
        }
      ]
    },
    {
      "cell_type": "code",
      "metadata": {
        "id": "G6ksRTR_nLKA",
        "outputId": "cd286747-f9e4-456a-8dbb-3c61d5de88c1"
      },
      "source": [
        "print(\"Tes Hipotesis 1 Sampel\")\n",
        "print(\"4.a: Nilai rata-rata Daerah di atas 4700?\")\n",
        "print(\"h0: rata-rata = 4700\")\n",
        "print(\"h1: rata-rata > 4700\")\n",
        "print(\"alpha = 0.05\")\n",
        "val_list = df[\"Daerah\"].values.tolist()\n",
        "tset, pval = stats.ttest_1samp(val_list, 4700)\n",
        "print(\"Nilai P: \", pval)\n",
        "if pval < 0.10:    # tes yang diperlukan one-tailed, sementara fungsi menghitung two-ended, sehingga Z daerah kritis perlu 2x lipat\n",
        "   print(\"P lebih kecil dari alpha, Hipotesis null tidak diterima, sehingga rata-rata diatas 4700\")\n",
        "else:\n",
        "  print(\"P lebih besar dari alpha, Hipotesis null diterima, sehingga rata-rata 4700\")"
      ],
      "execution_count": null,
      "outputs": [
        {
          "output_type": "stream",
          "text": [
            "Tes Hipotesis 1 Sampel\n",
            "4.a: Nilai rata-rata Daerah di atas 4700?\n",
            "h0: rata-rata = 4700\n",
            "h1: rata-rata > 4700\n",
            "alpha = 0.05\n",
            "Nilai P:  0.022138370895226352\n",
            "P lebih kecil dari alpha, Hipotesis null tidak diterima, sehingga rata-rata diatas 4700\n"
          ],
          "name": "stdout"
        }
      ]
    },
    {
      "cell_type": "code",
      "metadata": {
        "id": "zbFBGx7HnLKB",
        "outputId": "e0fd4bde-2bfe-48b3-ba8b-6631bdd3752b"
      },
      "source": [
        "print(\"4.b: Nilai Rata-rata Sumbu Utama tidak sama dengan 116?\")\n",
        "print(\"h0: rata-rata = 116\")\n",
        "print(\"h1: rata-rata =/= 116\")\n",
        "print(\"alpha = 0.05\")\n",
        "val_list = df[\"SumbuUtama\"].values.tolist()\n",
        "tset, pval = stats.ttest_1samp(val_list, 116)\n",
        "print(\"Nilai P: \", pval)\n",
        "if pval < 0.05:\n",
        "   print(\"P lebih kecil dari alpha, Hipotesis null tidak diterima, sehingga rata-rata bukan 116\")\n",
        "else:\n",
        "  print(\"P lebih besar dari alpha, Hipotesis null diterima, sehingga rata-rata 116\")"
      ],
      "execution_count": null,
      "outputs": [
        {
          "output_type": "stream",
          "text": [
            "4.b: Nilai Rata-rata Sumbu Utama tidak sama dengan 116?\n",
            "h0: rata-rata = 116\n",
            "h1: rata-rata =/= 116\n",
            "alpha = 0.05\n",
            "Nilai P:  0.955963699941099\n",
            "P lebih besar dari alpha, Hipotesis null diterima, sehingga rata-rata 116\n"
          ],
          "name": "stdout"
        }
      ]
    },
    {
      "cell_type": "code",
      "metadata": {
        "id": "2t1Sc_t-nLKC",
        "outputId": "7134eebb-d9e8-4f29-8b4c-28629fc566a4"
      },
      "source": [
        "print(\"4c. Nilai Rata-rata 20 baris pertama kolom Sumbu Kecil bukan 50?\")\n",
        "print(\"h0: rata-rata = 50\")\n",
        "print(\"h1: rata-rata =/= 50\")\n",
        "print(\"alpha = 0.05\")\n",
        "val_list = df[\"SumbuKecil\"].head(20).values.tolist()\n",
        "tset, pval = stats.ttest_1samp(val_list, 50)\n",
        "print(\"Nilai P: \", pval)\n",
        "if pval < 0.05:\n",
        "   print(\"P lebih kecil dari alpha, Hipotesis null tidak diterima, sehingga rata-rata bukan 50\")\n",
        "else:\n",
        "  print(\"P lebih besar dari alpha, Hipotesis null diterima, sehingga rata-rata 50\")"
      ],
      "execution_count": null,
      "outputs": [
        {
          "output_type": "stream",
          "text": [
            "4c. Nilai Rata-rata 20 baris pertama kolom Sumbu Kecil bukan 50?\n",
            "h0: rata-rata = 50\n",
            "h1: rata-rata =/= 50\n",
            "alpha = 0.05\n",
            "Nilai P:  3.3020185644245e-06\n",
            "P lebih kecil dari alpha, Hipotesis null tidak diterima, sehingga rata-rata bukan 50\n"
          ],
          "name": "stdout"
        }
      ]
    },
    {
      "cell_type": "code",
      "metadata": {
        "colab": {
          "base_uri": "https://localhost:8080/"
        },
        "id": "hKiyondgnLKD",
        "outputId": "ac028ea5-b27c-4748-8f8b-f06251aef9e6"
      },
      "source": [
        "# 5.a\n",
        "df_length = int(len(df)/2)\n",
        "sample1 = df[df_length:][\"AreaBulatan\"]\n",
        "sample2 = df[:df_length][\"AreaBulatan\"]\n",
        "ttest,pval = stats.ttest_ind(sample1, sample2)\n",
        "print(\"Mean Sample 1 : \", np.mean(sample1));\n",
        "print(\"Mean Sample 2 : \", np.mean(sample2));\n",
        "print(\"Nilai P: \", pval)\n",
        "if pval < 0.05:\n",
        "   print(\"P lebih kecil dari alpha, Hipotesis null tidak diterima, sehingga rata-rata kedua bagian tidak sama\")\n",
        "else:\n",
        "  print(\"P lebih besar dari alpha, Hipotesis null diterima, sehingga rata-rata kedua bagian tidak sama\")"
      ],
      "execution_count": 55,
      "outputs": [
        {
          "output_type": "stream",
          "text": [
            "Mean Sample 1 :  4324.292\n",
            "Mean Sample 2 :  5549.804\n",
            "Nilai P:  1.6612692497332565e-51\n",
            "P lebih kecil dari alpha, Hipotesis null tidak diterima, sehingga rata-rata kedua bagian tidak sama\n"
          ],
          "name": "stdout"
        }
      ]
    },
    {
      "cell_type": "code",
      "metadata": {
        "id": "JPcCqSqYstpM"
      },
      "source": [
        "#5.b\n",
        "df_length = int(len(df)/2)\n",
        "sample1 = df[df_length:][\"AreaBulatan\"]\n",
        "sample2 = df[:df_length][\"AreaBulatan\"]\n",
        "ttest,pval = stats.ttest_ind(sample1, sample2)\n",
        "print(\"Mean Sample 1 : \", np.mean(sample1));\n",
        "print(\"Mean Sample 2 : \", np.mean(sample2));\n",
        "print(\"Nilai P: \", pval)\n",
        "if pval < 0.05:\n",
        "   print(\"P lebih kecil dari alpha, Hipotesis null tidak diterima, sehingga rata-rata kedua bagian tidak sama\")\n",
        "else:\n",
        "  print(\"P lebih besar dari alpha, Hipotesis null diterima, sehingga rata-rata kedua bagian tidak sama\")"
      ],
      "execution_count": null,
      "outputs": []
    },
    {
      "cell_type": "code",
      "metadata": {
        "colab": {
          "base_uri": "https://localhost:8080/"
        },
        "id": "JHhiFJIPtEWH",
        "outputId": "83f602c2-e420-4833-aac7-a827c1528587"
      },
      "source": [
        "#5.c\n",
        "sample1 = df[:20][\"Bulatan\"];\n",
        "sample2 = df[-20:][\"Bulatan\"];\n",
        "ttest,pval = stats.ttest_ind(sample1, sample2)\n",
        "print(\"Mean Sample 1 : \", np.mean(sample1));\n",
        "print(\"Mean Sample 2 : \", np.mean(sample2));\n",
        "print(\"Nilai P: \", pval)\n",
        "if pval < 0.05:\n",
        "   print(\"P lebih kecil dari alpha, Hipotesis null tidak diterima, sehingga rata-rata kedua bagian tidak sama\")\n",
        "else:\n",
        "  print(\"P lebih besar dari alpha, Hipotesis null diterima, sehingga rata-rata kedua bagian tidak sama\")"
      ],
      "execution_count": 56,
      "outputs": [
        {
          "output_type": "stream",
          "text": [
            "Mean Sample 1 :  0.7375353552499999\n",
            "Mean Sample 2 :  0.767322437\n",
            "Nilai P:  0.0016919037522060854\n",
            "P lebih kecil dari alpha, Hipotesis null tidak diterima, sehingga rata-rata kedua bagian tidak sama\n"
          ],
          "name": "stdout"
        }
      ]
    },
    {
      "cell_type": "code",
      "metadata": {
        "colab": {
          "base_uri": "https://localhost:8080/"
        },
        "id": "esRB1V1AuJLu",
        "outputId": "5757186d-5426-4422-e8c8-e238e8a8b9c6"
      },
      "source": [
        "#5.d\n",
        "data = df[df.Ransum > 2][\"Ransum\"]\n",
        "data_length = int(len(data)/2)\n",
        "sample1 = data[df_length:]\n",
        "sample2 = data[:df_length];\n",
        "ttest,pval = stats.ttest_ind(sample1, sample2)\n",
        "print(\"Mean Sample 1 : \", np.mean(sample1));\n",
        "print(\"Mean Sample 2 : \", np.mean(sample2));\n",
        "print(\"Nilai P: \", pval)\n",
        "if pval < 0.05:\n",
        "   print(\"P lebih kecil dari alpha, Hipotesis null tidak diterima, sehingga rata-rata kedua bagian tidak sama\")\n",
        "else:\n",
        "  print(\"P lebih besar dari alpha, Hipotesis null diterima, sehingga rata-rata kedua bagian tidak sama\")"
      ],
      "execution_count": 69,
      "outputs": [
        {
          "output_type": "stream",
          "text": [
            "Mean Sample 1 :  2.219082973191257\n",
            "Mean Sample 2 :  2.3311777958021986\n",
            "Nilai P:  1.4031059970915394e-14\n",
            "P lebih kecil dari alpha, Hipotesis null tidak diterima, sehingga rata-rata kedua bagian tidak sama\n"
          ],
          "name": "stdout"
        }
      ]
    },
    {
      "cell_type": "code",
      "metadata": {
        "colab": {
          "base_uri": "https://localhost:8080/"
        },
        "id": "69jQZNcsvh_S",
        "outputId": "fa1477a3-5ee9-471a-a238-c078ba82e56c"
      },
      "source": [
        "#5.e\n",
        "sample1 = df[df_length:][\"Diameter\"]\n",
        "sample2 = df[:df_length][\"Diameter\"];\n",
        "ttest,pval = stats.ttest_ind(sample1, sample2)\n",
        "print(\"Mean Sample 1 : \", np.mean(sample1));\n",
        "print(\"Mean Sample 2 : \", np.mean(sample2));\n",
        "print(\"Nilai P: \", pval)\n",
        "if pval < 0.05:\n",
        "   print(\"P lebih kecil dari alpha, Hipotesis null tidak diterima, sehingga rata-rata kedua bagian tidak sama\")\n",
        "else:\n",
        "  print(\"P lebih besar dari alpha, Hipotesis null diterima, sehingga rata-rata kedua bagian tidak sama\")"
      ],
      "execution_count": 72,
      "outputs": [
        {
          "output_type": "stream",
          "text": [
            "Mean Sample 1 :  75.32263039333336\n",
            "Mean Sample 2 :  82.04935406087915\n",
            "Nilai P:  7.433299663457453e-21\n",
            "P lebih kecil dari alpha, Hipotesis null tidak diterima, sehingga rata-rata kedua bagian tidak sama\n"
          ],
          "name": "stdout"
        }
      ]
    },
    {
      "cell_type": "code",
      "metadata": {
        "id": "VYbxPYOIvomX"
      },
      "source": [
        "[]"
      ],
      "execution_count": null,
      "outputs": []
    }
  ]
}