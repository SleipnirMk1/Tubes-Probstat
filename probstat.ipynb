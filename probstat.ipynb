import pandas as pd

df = pd.read_csv("Gandum.csv")

df.head(10)

df.describe()

print("Skewness: ")
df.skew()

print("Variance: ")
df.var()

print("Kurtosis: ")
df.kurt()

df.hist(column="Daerah")
df.boxplot(column="Daerah")

df.hist(column="SumbuUtama")
df.boxplot(column="SumbuUtama")